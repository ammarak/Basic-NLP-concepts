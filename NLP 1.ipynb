{
 "cells": [
  {
   "cell_type": "markdown",
   "id": "69e6c6c1",
   "metadata": {},
   "source": [
    "## Tokenization\n",
    "## Stemming\n",
    "## Lemmatizatiin\n",
    "## Bag of Words"
   ]
  },
  {
   "cell_type": "code",
   "execution_count": 2,
   "id": "a0498a24",
   "metadata": {},
   "outputs": [],
   "source": [
    "#!pip install nltk"
   ]
  },
  {
   "cell_type": "code",
   "execution_count": 39,
   "id": "4ae49d7c",
   "metadata": {},
   "outputs": [],
   "source": [
    "paragraph = '''\n",
    "Emory Andrew Tate III (born December 1, 1986) is a British and American social media personality, businessman, and former professional kickboxer.\n",
    "\n",
    "Tate began practicing kickboxing in 2005 and gained his first championship in 2009. He attracted wider attention in 2016, when he appeared on the British reality show Big Brother and was removed after his comments on social media attracted controversy. He began offering paid courses and memberships through his website and rose to fame as an internet celebrity, promoting an \"ultra-masculine, ultra-luxurious lifestyle\". Tate's misogynistic commentary has resulted in his suspension from several social media platforms.[4][5][6][7]\n",
    "\n",
    "On December 29, 2022, Andrew and his brother Tristan were arrested in Romania along with two women; all four are suspected of human trafficking and forming an organized crime group. Romanian police allege that the group coerced victims into creating paid pornography for social media.[8] On March 31, all four were moved to house arrest while the investigation continues. Prosecutors have said that they have until late June to send the case to trial.[9][10]\n",
    "'''"
   ]
  },
  {
   "cell_type": "code",
   "execution_count": 40,
   "id": "9a3eff3e",
   "metadata": {},
   "outputs": [
    {
     "data": {
      "text/plain": [
       "'\\nEmory Andrew Tate III (born December 1, 1986) is a British and American social media personality, businessman, and former professional kickboxer.\\n\\nTate began practicing kickboxing in 2005 and gained his first championship in 2009. He attracted wider attention in 2016, when he appeared on the British reality show Big Brother and was removed after his comments on social media attracted controversy. He began offering paid courses and memberships through his website and rose to fame as an internet celebrity, promoting an \"ultra-masculine, ultra-luxurious lifestyle\". Tate\\'s misogynistic commentary has resulted in his suspension from several social media platforms.[4][5][6][7]\\n\\nOn December 29, 2022, Andrew and his brother Tristan were arrested in Romania along with two women; all four are suspected of human trafficking and forming an organized crime group. Romanian police allege that the group coerced victims into creating paid pornography for social media.[8] On March 31, all four were moved to house arrest while the investigation continues. Prosecutors have said that they have until late June to send the case to trial.[9][10]\\n'"
      ]
     },
     "execution_count": 40,
     "metadata": {},
     "output_type": "execute_result"
    }
   ],
   "source": [
    "paragraph"
   ]
  },
  {
   "cell_type": "code",
   "execution_count": 5,
   "id": "4523c32c",
   "metadata": {},
   "outputs": [],
   "source": [
    "import nltk\n",
    "from nltk.stem import PorterStemmer\n",
    "from nltk.corpus import stopwords"
   ]
  },
  {
   "cell_type": "markdown",
   "id": "e50d4060",
   "metadata": {},
   "source": [
    "## Tokenization\n",
    "Covert paragraph into senteces and then focus on the words"
   ]
  },
  {
   "cell_type": "code",
   "execution_count": 38,
   "id": "83d50c1e",
   "metadata": {},
   "outputs": [],
   "source": [
    "#nltk.download('punkt')"
   ]
  },
  {
   "cell_type": "code",
   "execution_count": 41,
   "id": "bbee87e7",
   "metadata": {},
   "outputs": [
    {
     "name": "stdout",
     "output_type": "stream",
     "text": [
      "['\\nEmory Andrew Tate III (born December 1, 1986) is a British and American social media personality, businessman, and former professional kickboxer.', 'Tate began practicing kickboxing in 2005 and gained his first championship in 2009.', 'He attracted wider attention in 2016, when he appeared on the British reality show Big Brother and was removed after his comments on social media attracted controversy.', 'He began offering paid courses and memberships through his website and rose to fame as an internet celebrity, promoting an \"ultra-masculine, ultra-luxurious lifestyle\".', \"Tate's misogynistic commentary has resulted in his suspension from several social media platforms.\", '[4][5][6][7]\\n\\nOn December 29, 2022, Andrew and his brother Tristan were arrested in Romania along with two women; all four are suspected of human trafficking and forming an organized crime group.', 'Romanian police allege that the group coerced victims into creating paid pornography for social media.', '[8] On March 31, all four were moved to house arrest while the investigation continues.', 'Prosecutors have said that they have until late June to send the case to trial.', '[9][10]']\n"
     ]
    }
   ],
   "source": [
    "sentences = nltk.sent_tokenize(paragraph)\n",
    "print(sentences)"
   ]
  },
  {
   "cell_type": "markdown",
   "id": "aa659073",
   "metadata": {},
   "source": [
    "## Stemming"
   ]
  },
  {
   "cell_type": "code",
   "execution_count": 42,
   "id": "17871f5d",
   "metadata": {},
   "outputs": [],
   "source": [
    "stemmer = PorterStemmer()"
   ]
  },
  {
   "cell_type": "code",
   "execution_count": 43,
   "id": "1dd1e241",
   "metadata": {},
   "outputs": [
    {
     "data": {
      "text/plain": [
       "('think', 'histori', 'goe')"
      ]
     },
     "execution_count": 43,
     "metadata": {},
     "output_type": "execute_result"
    }
   ],
   "source": [
    "stemmer.stem('thinking'), stemmer.stem('history'), stemmer.stem('goes') "
   ]
  },
  {
   "cell_type": "markdown",
   "id": "b0a77526",
   "metadata": {},
   "source": [
    "## Lemmatization"
   ]
  },
  {
   "cell_type": "code",
   "execution_count": 44,
   "id": "36aaf4ce",
   "metadata": {},
   "outputs": [],
   "source": [
    "#nltk.download('wordnet')"
   ]
  },
  {
   "cell_type": "code",
   "execution_count": 45,
   "id": "e97ba8de",
   "metadata": {},
   "outputs": [],
   "source": [
    "#nltk.download('omw-1.4')"
   ]
  },
  {
   "cell_type": "code",
   "execution_count": 22,
   "id": "53a86aa7",
   "metadata": {},
   "outputs": [],
   "source": [
    "from nltk.stem import WordNetLemmatizer"
   ]
  },
  {
   "cell_type": "code",
   "execution_count": 46,
   "id": "b5773d62",
   "metadata": {},
   "outputs": [],
   "source": [
    "lemmatizer = WordNetLemmatizer()"
   ]
  },
  {
   "cell_type": "code",
   "execution_count": 47,
   "id": "9a6a4321",
   "metadata": {},
   "outputs": [
    {
     "data": {
      "text/plain": [
       "('history', 'go')"
      ]
     },
     "execution_count": 47,
     "metadata": {},
     "output_type": "execute_result"
    }
   ],
   "source": [
    "lemmatizer.lemmatize('history'), lemmatizer.lemmatize('goes')"
   ]
  },
  {
   "cell_type": "code",
   "execution_count": 48,
   "id": "05419494",
   "metadata": {},
   "outputs": [
    {
     "data": {
      "text/plain": [
       "10"
      ]
     },
     "execution_count": 48,
     "metadata": {},
     "output_type": "execute_result"
    }
   ],
   "source": [
    "len(sentences)"
   ]
  },
  {
   "cell_type": "code",
   "execution_count": 49,
   "id": "9ea16416",
   "metadata": {},
   "outputs": [],
   "source": [
    "import re"
   ]
  },
  {
   "cell_type": "code",
   "execution_count": 50,
   "id": "41cdd518",
   "metadata": {},
   "outputs": [],
   "source": [
    "corpus = []\n",
    "for i in range(len(sentences)):\n",
    "    review = re.sub('[^a-zA-Z]', ' ', sentences[i])\n",
    "    review = review.lower()\n",
    "    corpus.append(review)"
   ]
  },
  {
   "cell_type": "code",
   "execution_count": 51,
   "id": "b2c8e922",
   "metadata": {},
   "outputs": [
    {
     "data": {
      "text/plain": [
       "[' emory andrew tate iii  born december          is a british and american social media personality  businessman  and former professional kickboxer ',\n",
       " 'tate began practicing kickboxing in      and gained his first championship in      ',\n",
       " 'he attracted wider attention in       when he appeared on the british reality show big brother and was removed after his comments on social media attracted controversy ',\n",
       " 'he began offering paid courses and memberships through his website and rose to fame as an internet celebrity  promoting an  ultra masculine  ultra luxurious lifestyle  ',\n",
       " 'tate s misogynistic commentary has resulted in his suspension from several social media platforms ',\n",
       " '              on december           andrew and his brother tristan were arrested in romania along with two women  all four are suspected of human trafficking and forming an organized crime group ',\n",
       " 'romanian police allege that the group coerced victims into creating paid pornography for social media ',\n",
       " '    on march     all four were moved to house arrest while the investigation continues ',\n",
       " 'prosecutors have said that they have until late june to send the case to trial ',\n",
       " '       ']"
      ]
     },
     "execution_count": 51,
     "metadata": {},
     "output_type": "execute_result"
    }
   ],
   "source": [
    "corpus"
   ]
  },
  {
   "cell_type": "markdown",
   "id": "7c85cc9e",
   "metadata": {},
   "source": [
    "## Stemming on the entire paragraph"
   ]
  },
  {
   "cell_type": "code",
   "execution_count": 52,
   "id": "50298594",
   "metadata": {},
   "outputs": [],
   "source": [
    "#nltk.download('stopwords')"
   ]
  },
  {
   "cell_type": "code",
   "execution_count": 55,
   "id": "7a5897f9",
   "metadata": {
    "scrolled": true
   },
   "outputs": [
    {
     "name": "stdout",
     "output_type": "stream",
     "text": [
      "emori\n",
      "andrew\n",
      "tate\n",
      "iii\n",
      "born\n",
      "decemb\n",
      "british\n",
      "american\n",
      "social\n",
      "media\n",
      "person\n",
      "businessman\n",
      "former\n",
      "profession\n",
      "kickbox\n",
      "tate\n",
      "began\n",
      "practic\n",
      "kickbox\n",
      "gain\n",
      "first\n",
      "championship\n",
      "attract\n",
      "wider\n",
      "attent\n",
      "appear\n",
      "british\n",
      "realiti\n",
      "show\n",
      "big\n",
      "brother\n",
      "remov\n",
      "comment\n",
      "social\n",
      "media\n",
      "attract\n",
      "controversi\n",
      "began\n",
      "offer\n",
      "paid\n",
      "cours\n",
      "membership\n",
      "websit\n",
      "rose\n",
      "fame\n",
      "internet\n",
      "celebr\n",
      "promot\n",
      "ultra\n",
      "masculin\n",
      "ultra\n",
      "luxuri\n",
      "lifestyl\n",
      "tate\n",
      "misogynist\n",
      "commentari\n",
      "result\n",
      "suspens\n",
      "sever\n",
      "social\n",
      "media\n",
      "platform\n",
      "decemb\n",
      "andrew\n",
      "brother\n",
      "tristan\n",
      "arrest\n",
      "romania\n",
      "along\n",
      "two\n",
      "women\n",
      "four\n",
      "suspect\n",
      "human\n",
      "traffick\n",
      "form\n",
      "organ\n",
      "crime\n",
      "group\n",
      "romanian\n",
      "polic\n",
      "alleg\n",
      "group\n",
      "coerc\n",
      "victim\n",
      "creat\n",
      "paid\n",
      "pornographi\n",
      "social\n",
      "media\n",
      "march\n",
      "four\n",
      "move\n",
      "hous\n",
      "arrest\n",
      "investig\n",
      "continu\n",
      "prosecutor\n",
      "said\n",
      "late\n",
      "june\n",
      "send\n",
      "case\n",
      "trial\n"
     ]
    }
   ],
   "source": [
    "for i in corpus:\n",
    "    words = nltk.word_tokenize(i)\n",
    "    for word in words:\n",
    "        if word not in set(stopwords.words('english')):\n",
    "            print(stemmer.stem(word))"
   ]
  },
  {
   "cell_type": "markdown",
   "id": "322721c1",
   "metadata": {},
   "source": [
    "## Lemmatization on entire paragraph"
   ]
  },
  {
   "cell_type": "code",
   "execution_count": 57,
   "id": "317937ed",
   "metadata": {},
   "outputs": [
    {
     "name": "stdout",
     "output_type": "stream",
     "text": [
      "emory\n",
      "andrew\n",
      "tate\n",
      "iii\n",
      "born\n",
      "december\n",
      "british\n",
      "american\n",
      "social\n",
      "medium\n",
      "personality\n",
      "businessman\n",
      "former\n",
      "professional\n",
      "kickboxer\n",
      "tate\n",
      "began\n",
      "practicing\n",
      "kickboxing\n",
      "gained\n",
      "first\n",
      "championship\n",
      "attracted\n",
      "wider\n",
      "attention\n",
      "appeared\n",
      "british\n",
      "reality\n",
      "show\n",
      "big\n",
      "brother\n",
      "removed\n",
      "comment\n",
      "social\n",
      "medium\n",
      "attracted\n",
      "controversy\n",
      "began\n",
      "offering\n",
      "paid\n",
      "course\n",
      "membership\n",
      "website\n",
      "rose\n",
      "fame\n",
      "internet\n",
      "celebrity\n",
      "promoting\n",
      "ultra\n",
      "masculine\n",
      "ultra\n",
      "luxurious\n",
      "lifestyle\n",
      "tate\n",
      "misogynistic\n",
      "commentary\n",
      "resulted\n",
      "suspension\n",
      "several\n",
      "social\n",
      "medium\n",
      "platform\n",
      "december\n",
      "andrew\n",
      "brother\n",
      "tristan\n",
      "arrested\n",
      "romania\n",
      "along\n",
      "two\n",
      "woman\n",
      "four\n",
      "suspected\n",
      "human\n",
      "trafficking\n",
      "forming\n",
      "organized\n",
      "crime\n",
      "group\n",
      "romanian\n",
      "police\n",
      "allege\n",
      "group\n",
      "coerced\n",
      "victim\n",
      "creating\n",
      "paid\n",
      "pornography\n",
      "social\n",
      "medium\n",
      "march\n",
      "four\n",
      "moved\n",
      "house\n",
      "arrest\n",
      "investigation\n",
      "continues\n",
      "prosecutor\n",
      "said\n",
      "late\n",
      "june\n",
      "send\n",
      "case\n",
      "trial\n"
     ]
    }
   ],
   "source": [
    "# Lemmatization\n",
    "for i in corpus:\n",
    "    words = nltk.word_tokenize(i)\n",
    "    for word in words:\n",
    "        if word not in set(stopwords.words('english')):\n",
    "            print(lemmatizer.lemmatize(word))"
   ]
  },
  {
   "cell_type": "markdown",
   "id": "2286b1b9",
   "metadata": {},
   "source": [
    "## Bag of Words"
   ]
  },
  {
   "cell_type": "code",
   "execution_count": 58,
   "id": "ff7ef2c6",
   "metadata": {},
   "outputs": [],
   "source": [
    "from sklearn.feature_extraction.text import CountVectorizer"
   ]
  },
  {
   "cell_type": "code",
   "execution_count": 60,
   "id": "50d90cab",
   "metadata": {},
   "outputs": [],
   "source": [
    "cv = CountVectorizer()  #binary = True, ngram_range = (2,3)"
   ]
  },
  {
   "cell_type": "code",
   "execution_count": 61,
   "id": "c8fca921",
   "metadata": {},
   "outputs": [],
   "source": [
    "X = cv.fit_transform(corpus)"
   ]
  },
  {
   "cell_type": "code",
   "execution_count": 63,
   "id": "76a48cbd",
   "metadata": {},
   "outputs": [
    {
     "data": {
      "text/plain": [
       "{'emory': 33,\n",
       " 'andrew': 7,\n",
       " 'tate': 93,\n",
       " 'iii': 49,\n",
       " 'born': 17,\n",
       " 'december': 32,\n",
       " 'is': 54,\n",
       " 'british': 18,\n",
       " 'and': 6,\n",
       " 'american': 4,\n",
       " 'social': 90,\n",
       " 'media': 63,\n",
       " 'personality': 72,\n",
       " 'businessman': 20,\n",
       " 'former': 37,\n",
       " 'professional': 77,\n",
       " 'kickboxer': 56,\n",
       " 'began': 15,\n",
       " 'practicing': 76,\n",
       " 'kickboxing': 57,\n",
       " 'in': 50,\n",
       " 'gained': 41,\n",
       " 'his': 46,\n",
       " 'first': 35,\n",
       " 'championship': 23,\n",
       " 'he': 45,\n",
       " 'attracted': 14,\n",
       " 'wider': 111,\n",
       " 'attention': 13,\n",
       " 'when': 109,\n",
       " 'appeared': 8,\n",
       " 'on': 69,\n",
       " 'the': 95,\n",
       " 'reality': 80,\n",
       " 'show': 89,\n",
       " 'big': 16,\n",
       " 'brother': 19,\n",
       " 'was': 106,\n",
       " 'removed': 81,\n",
       " 'after': 0,\n",
       " 'comments': 26,\n",
       " 'controversy': 28,\n",
       " 'offering': 68,\n",
       " 'paid': 71,\n",
       " 'courses': 29,\n",
       " 'memberships': 64,\n",
       " 'through': 97,\n",
       " 'website': 107,\n",
       " 'rose': 85,\n",
       " 'to': 98,\n",
       " 'fame': 34,\n",
       " 'as': 12,\n",
       " 'an': 5,\n",
       " 'internet': 51,\n",
       " 'celebrity': 22,\n",
       " 'promoting': 78,\n",
       " 'ultra': 103,\n",
       " 'masculine': 62,\n",
       " 'luxurious': 60,\n",
       " 'lifestyle': 59,\n",
       " 'misogynistic': 65,\n",
       " 'commentary': 25,\n",
       " 'has': 43,\n",
       " 'resulted': 82,\n",
       " 'suspension': 92,\n",
       " 'from': 40,\n",
       " 'several': 88,\n",
       " 'platforms': 73,\n",
       " 'tristan': 101,\n",
       " 'were': 108,\n",
       " 'arrested': 11,\n",
       " 'romania': 83,\n",
       " 'along': 3,\n",
       " 'with': 112,\n",
       " 'two': 102,\n",
       " 'women': 113,\n",
       " 'all': 1,\n",
       " 'four': 39,\n",
       " 'are': 9,\n",
       " 'suspected': 91,\n",
       " 'of': 67,\n",
       " 'human': 48,\n",
       " 'trafficking': 99,\n",
       " 'forming': 38,\n",
       " 'organized': 70,\n",
       " 'crime': 31,\n",
       " 'group': 42,\n",
       " 'romanian': 84,\n",
       " 'police': 74,\n",
       " 'allege': 2,\n",
       " 'that': 94,\n",
       " 'coerced': 24,\n",
       " 'victims': 105,\n",
       " 'into': 52,\n",
       " 'creating': 30,\n",
       " 'pornography': 75,\n",
       " 'for': 36,\n",
       " 'march': 61,\n",
       " 'moved': 66,\n",
       " 'house': 47,\n",
       " 'arrest': 10,\n",
       " 'while': 110,\n",
       " 'investigation': 53,\n",
       " 'continues': 27,\n",
       " 'prosecutors': 79,\n",
       " 'have': 44,\n",
       " 'said': 86,\n",
       " 'they': 96,\n",
       " 'until': 104,\n",
       " 'late': 58,\n",
       " 'june': 55,\n",
       " 'send': 87,\n",
       " 'case': 21,\n",
       " 'trial': 100}"
      ]
     },
     "execution_count": 63,
     "metadata": {},
     "output_type": "execute_result"
    }
   ],
   "source": [
    "cv.vocabulary_"
   ]
  },
  {
   "cell_type": "code",
   "execution_count": 64,
   "id": "da3d1d5a",
   "metadata": {},
   "outputs": [
    {
     "data": {
      "text/plain": [
       "[' emory andrew tate iii  born december          is a british and american social media personality  businessman  and former professional kickboxer ',\n",
       " 'tate began practicing kickboxing in      and gained his first championship in      ',\n",
       " 'he attracted wider attention in       when he appeared on the british reality show big brother and was removed after his comments on social media attracted controversy ',\n",
       " 'he began offering paid courses and memberships through his website and rose to fame as an internet celebrity  promoting an  ultra masculine  ultra luxurious lifestyle  ',\n",
       " 'tate s misogynistic commentary has resulted in his suspension from several social media platforms ',\n",
       " '              on december           andrew and his brother tristan were arrested in romania along with two women  all four are suspected of human trafficking and forming an organized crime group ',\n",
       " 'romanian police allege that the group coerced victims into creating paid pornography for social media ',\n",
       " '    on march     all four were moved to house arrest while the investigation continues ',\n",
       " 'prosecutors have said that they have until late june to send the case to trial ',\n",
       " '       ']"
      ]
     },
     "execution_count": 64,
     "metadata": {},
     "output_type": "execute_result"
    }
   ],
   "source": [
    "corpus"
   ]
  },
  {
   "cell_type": "code",
   "execution_count": 65,
   "id": "de980f24",
   "metadata": {},
   "outputs": [
    {
     "data": {
      "text/plain": [
       "array([[0, 0, 0, 0, 1, 0, 2, 1, 0, 0, 0, 0, 0, 0, 0, 0, 0, 1, 1, 0, 1, 0,\n",
       "        0, 0, 0, 0, 0, 0, 0, 0, 0, 0, 1, 1, 0, 0, 0, 1, 0, 0, 0, 0, 0, 0,\n",
       "        0, 0, 0, 0, 0, 1, 0, 0, 0, 0, 1, 0, 1, 0, 0, 0, 0, 0, 0, 1, 0, 0,\n",
       "        0, 0, 0, 0, 0, 0, 1, 0, 0, 0, 0, 1, 0, 0, 0, 0, 0, 0, 0, 0, 0, 0,\n",
       "        0, 0, 1, 0, 0, 1, 0, 0, 0, 0, 0, 0, 0, 0, 0, 0, 0, 0, 0, 0, 0, 0,\n",
       "        0, 0, 0, 0]], dtype=int64)"
      ]
     },
     "execution_count": 65,
     "metadata": {},
     "output_type": "execute_result"
    }
   ],
   "source": [
    "X[0].toarray()"
   ]
  },
  {
   "cell_type": "code",
   "execution_count": 70,
   "id": "f81bcbca",
   "metadata": {},
   "outputs": [
    {
     "data": {
      "text/plain": [
       "array([[0, 1, 0, 1, 0, 1, 2, 1, 0, 1, 0, 1, 0, 0, 0, 0, 0, 0, 0, 1, 0, 0,\n",
       "        0, 0, 0, 0, 0, 0, 0, 0, 0, 1, 1, 0, 0, 0, 0, 0, 1, 1, 0, 0, 1, 0,\n",
       "        0, 0, 1, 0, 1, 0, 1, 0, 0, 0, 0, 0, 0, 0, 0, 0, 0, 0, 0, 0, 0, 0,\n",
       "        0, 1, 0, 1, 1, 0, 0, 0, 0, 0, 0, 0, 0, 0, 0, 0, 0, 1, 0, 0, 0, 0,\n",
       "        0, 0, 0, 1, 0, 0, 0, 0, 0, 0, 0, 1, 0, 1, 1, 0, 0, 0, 0, 0, 1, 0,\n",
       "        0, 0, 1, 1]], dtype=int64)"
      ]
     },
     "execution_count": 70,
     "metadata": {},
     "output_type": "execute_result"
    }
   ],
   "source": [
    "X[5].toarray()"
   ]
  },
  {
   "cell_type": "code",
   "execution_count": 67,
   "id": "362753bd",
   "metadata": {},
   "outputs": [
    {
     "data": {
      "text/plain": [
       "' emory andrew tate iii  born december          is a british and american social media personality  businessman  and former professional kickboxer '"
      ]
     },
     "execution_count": 67,
     "metadata": {},
     "output_type": "execute_result"
    }
   ],
   "source": [
    "corpus[0]"
   ]
  },
  {
   "cell_type": "code",
   "execution_count": 73,
   "id": "343ecf39",
   "metadata": {},
   "outputs": [],
   "source": [
    "## Apply Stopwords and Lemmatization before CountVectorizer\n",
    "\n",
    "import re\n",
    "corpus = []\n",
    "for i in range(len(sentences)):\n",
    "    review = re.sub('[^a-zA-z]', ' ', sentences[i])\n",
    "    review = review.lower()\n",
    "    review = review.split()\n",
    "    review = [lemmatizer.lemmatize(word) for word in review if not word in set(stopwords.words('english'))]\n",
    "    review = ' '.join(review)\n",
    "    corpus.append(review)"
   ]
  },
  {
   "cell_type": "code",
   "execution_count": 79,
   "id": "f044573e",
   "metadata": {},
   "outputs": [
    {
     "data": {
      "text/plain": [
       "['emory andrew tate iii born december british american social medium personality businessman former professional kickboxer',\n",
       " 'tate began practicing kickboxing gained first championship',\n",
       " 'attracted wider attention appeared british reality show big brother removed comment social medium attracted controversy',\n",
       " 'began offering paid course membership website rose fame internet celebrity promoting ultra masculine ultra luxurious lifestyle',\n",
       " 'tate misogynistic commentary resulted suspension several social medium platform',\n",
       " '[ ][ ][ ][ ] december andrew brother tristan arrested romania along two woman four suspected human trafficking forming organized crime group',\n",
       " 'romanian police allege group coerced victim creating paid pornography social medium',\n",
       " '[ ] march four moved house arrest investigation continues',\n",
       " 'prosecutor said late june send case trial',\n",
       " '[ ][ ]']"
      ]
     },
     "execution_count": 79,
     "metadata": {},
     "output_type": "execute_result"
    }
   ],
   "source": [
    "corpus"
   ]
  },
  {
   "cell_type": "code",
   "execution_count": 74,
   "id": "f739e42b",
   "metadata": {},
   "outputs": [],
   "source": [
    "X = cv.fit_transform(corpus)"
   ]
  },
  {
   "cell_type": "code",
   "execution_count": 75,
   "id": "da54040d",
   "metadata": {},
   "outputs": [
    {
     "data": {
      "text/plain": [
       "{'emory': 27,\n",
       " 'andrew': 3,\n",
       " 'tate': 76,\n",
       " 'iii': 37,\n",
       " 'born': 11,\n",
       " 'december': 26,\n",
       " 'british': 12,\n",
       " 'american': 2,\n",
       " 'social': 73,\n",
       " 'medium': 48,\n",
       " 'personality': 55,\n",
       " 'businessman': 14,\n",
       " 'former': 30,\n",
       " 'professional': 60,\n",
       " 'kickboxer': 41,\n",
       " 'began': 9,\n",
       " 'practicing': 59,\n",
       " 'kickboxing': 42,\n",
       " 'gained': 33,\n",
       " 'first': 29,\n",
       " 'championship': 17,\n",
       " 'attracted': 8,\n",
       " 'wider': 84,\n",
       " 'attention': 7,\n",
       " 'appeared': 4,\n",
       " 'reality': 63,\n",
       " 'show': 72,\n",
       " 'big': 10,\n",
       " 'brother': 13,\n",
       " 'removed': 64,\n",
       " 'comment': 19,\n",
       " 'controversy': 22,\n",
       " 'offering': 52,\n",
       " 'paid': 54,\n",
       " 'course': 23,\n",
       " 'membership': 49,\n",
       " 'website': 83,\n",
       " 'rose': 68,\n",
       " 'fame': 28,\n",
       " 'internet': 38,\n",
       " 'celebrity': 16,\n",
       " 'promoting': 61,\n",
       " 'ultra': 81,\n",
       " 'masculine': 47,\n",
       " 'luxurious': 45,\n",
       " 'lifestyle': 44,\n",
       " 'misogynistic': 50,\n",
       " 'commentary': 20,\n",
       " 'resulted': 65,\n",
       " 'suspension': 75,\n",
       " 'several': 71,\n",
       " 'platform': 56,\n",
       " 'tristan': 79,\n",
       " 'arrested': 6,\n",
       " 'romania': 66,\n",
       " 'along': 1,\n",
       " 'two': 80,\n",
       " 'woman': 85,\n",
       " 'four': 32,\n",
       " 'suspected': 74,\n",
       " 'human': 36,\n",
       " 'trafficking': 77,\n",
       " 'forming': 31,\n",
       " 'organized': 53,\n",
       " 'crime': 25,\n",
       " 'group': 34,\n",
       " 'romanian': 67,\n",
       " 'police': 57,\n",
       " 'allege': 0,\n",
       " 'coerced': 18,\n",
       " 'victim': 82,\n",
       " 'creating': 24,\n",
       " 'pornography': 58,\n",
       " 'march': 46,\n",
       " 'moved': 51,\n",
       " 'house': 35,\n",
       " 'arrest': 5,\n",
       " 'investigation': 39,\n",
       " 'continues': 21,\n",
       " 'prosecutor': 62,\n",
       " 'said': 69,\n",
       " 'late': 43,\n",
       " 'june': 40,\n",
       " 'send': 70,\n",
       " 'case': 15,\n",
       " 'trial': 78}"
      ]
     },
     "execution_count": 75,
     "metadata": {},
     "output_type": "execute_result"
    }
   ],
   "source": [
    "cv.vocabulary_"
   ]
  },
  {
   "cell_type": "code",
   "execution_count": 83,
   "id": "25ffdc9a",
   "metadata": {},
   "outputs": [
    {
     "data": {
      "text/plain": [
       "array([[0, 0, 1, 1, 0, 0, 0, 0, 0, 0, 0, 1, 1, 0, 1, 0, 0, 0, 0, 0, 0, 0,\n",
       "        0, 0, 0, 0, 1, 1, 0, 0, 1, 0, 0, 0, 0, 0, 0, 1, 0, 0, 0, 1, 0, 0,\n",
       "        0, 0, 0, 0, 1, 0, 0, 0, 0, 0, 0, 1, 0, 0, 0, 0, 1, 0, 0, 0, 0, 0,\n",
       "        0, 0, 0, 0, 0, 0, 0, 1, 0, 0, 1, 0, 0, 0, 0, 0, 0, 0, 0, 0]],\n",
       "      dtype=int64)"
      ]
     },
     "execution_count": 83,
     "metadata": {},
     "output_type": "execute_result"
    }
   ],
   "source": [
    "X[0].toarray()"
   ]
  },
  {
   "cell_type": "markdown",
   "id": "18c55f4a",
   "metadata": {},
   "source": [
    "## Term Frequency - Inverse Term Frequency"
   ]
  },
  {
   "cell_type": "code",
   "execution_count": 85,
   "id": "5b9b0c56",
   "metadata": {},
   "outputs": [],
   "source": [
    "from sklearn.feature_extraction.text import TfidfVectorizer"
   ]
  },
  {
   "cell_type": "code",
   "execution_count": 90,
   "id": "1e47917d",
   "metadata": {},
   "outputs": [],
   "source": [
    "cv = TfidfVectorizer(ngram_range=(1,1), max_features=10)  # Top 10\n",
    "\n",
    "X = cv.fit_transform(corpus)"
   ]
  },
  {
   "cell_type": "code",
   "execution_count": 91,
   "id": "e779f307",
   "metadata": {},
   "outputs": [
    {
     "data": {
      "text/plain": [
       "'emory andrew tate iii born december british american social medium personality businessman former professional kickboxer'"
      ]
     },
     "execution_count": 91,
     "metadata": {},
     "output_type": "execute_result"
    }
   ],
   "source": [
    "corpus[0]"
   ]
  },
  {
   "cell_type": "code",
   "execution_count": 92,
   "id": "226de591",
   "metadata": {},
   "outputs": [
    {
     "data": {
      "text/plain": [
       "array([[0.        , 0.5015405 , 0.        , 0.5015405 , 0.        ,\n",
       "        0.        , 0.39011457, 0.        , 0.39011457, 0.43878867]])"
      ]
     },
     "execution_count": 92,
     "metadata": {},
     "output_type": "execute_result"
    }
   ],
   "source": [
    "X[0].toarray()"
   ]
  },
  {
   "cell_type": "code",
   "execution_count": null,
   "id": "245dea1a",
   "metadata": {},
   "outputs": [],
   "source": []
  }
 ],
 "metadata": {
  "kernelspec": {
   "display_name": "Python 3 (ipykernel)",
   "language": "python",
   "name": "python3"
  },
  "language_info": {
   "codemirror_mode": {
    "name": "ipython",
    "version": 3
   },
   "file_extension": ".py",
   "mimetype": "text/x-python",
   "name": "python",
   "nbconvert_exporter": "python",
   "pygments_lexer": "ipython3",
   "version": "3.9.13"
  }
 },
 "nbformat": 4,
 "nbformat_minor": 5
}
